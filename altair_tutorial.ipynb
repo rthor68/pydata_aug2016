{
 "cells": [
  {
   "cell_type": "markdown",
   "metadata": {},
   "source": [
    "# Altair Tutorial"
   ]
  },
  {
   "cell_type": "markdown",
   "metadata": {},
   "source": [
    "See the github repository for the information: [ellisonbg/altair: Declarative statistical visualization library for Python](https://github.com/ellisonbg/altair)"
   ]
  },
  {
   "cell_type": "markdown",
   "metadata": {},
   "source": [
    "First you will need to install altair. Once it is available in your environment you can run the code in this notebook to get links to the tutorial pages."
   ]
  },
  {
   "cell_type": "markdown",
   "metadata": {},
   "source": [
    "## Installation\n",
    "\n",
    "Assuming you have the Jupyter Notebook installed, Altair can be installed with the\n",
    "following commands:\n",
    "\n",
    "```\n",
    "pip install altair\n",
    "jupyter nbextension install --sys-prefix --py vega\n",
    "```\n",
    "\n",
    "Or using conda (conda builds may take a few hours to go live after a release):\n",
    "\n",
    "```\n",
    "conda install altair --channel conda-forge\n",
    "```\n"
   ]
  },
  {
   "cell_type": "code",
   "execution_count": null,
   "metadata": {
    "collapsed": false
   },
   "outputs": [],
   "source": [
    "from altair import tutorial\n",
    "tutorial()"
   ]
  },
  {
   "cell_type": "code",
   "execution_count": null,
   "metadata": {
    "collapsed": true
   },
   "outputs": [],
   "source": []
  }
 ],
 "metadata": {
  "kernelspec": {
   "display_name": "Python [pydata_test]",
   "language": "python",
   "name": "Python [pydata_test]"
  },
  "language_info": {
   "codemirror_mode": {
    "name": "ipython",
    "version": 3
   },
   "file_extension": ".py",
   "mimetype": "text/x-python",
   "name": "python",
   "nbconvert_exporter": "python",
   "pygments_lexer": "ipython3",
   "version": "3.5.1"
  }
 },
 "nbformat": 4,
 "nbformat_minor": 0
}
